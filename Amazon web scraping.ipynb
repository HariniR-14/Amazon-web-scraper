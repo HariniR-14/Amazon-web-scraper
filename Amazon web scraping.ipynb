{
 "cells": [
  {
   "cell_type": "code",
   "execution_count": 1,
   "id": "28ed2ec3-d04e-4820-9964-1070bb3271fb",
   "metadata": {},
   "outputs": [],
   "source": [
    "# import libraries\n",
    "from bs4 import BeautifulSoup\n",
    "import requests\n",
    "import time\n",
    "import datetime\n",
    "import csv\n",
    "import smtplib"
   ]
  },
  {
   "cell_type": "code",
   "execution_count": 2,
   "id": "921e7228-646c-424e-9555-c7bde299e529",
   "metadata": {},
   "outputs": [
    {
     "name": "stdout",
     "output_type": "stream",
     "text": [
      "✅ Title: Data Analyst Interview Questions Answers For Job Seekers: Sharpen Your Skills And Prepare for the Position of Data Analyst\n",
      "✅ Price: 1,999\n"
     ]
    }
   ],
   "source": [
    "from bs4 import BeautifulSoup\n",
    "import requests\n",
    "\n",
    "URL = 'https://www.amazon.in/Analyst-Interview-Questions-Answers-Seekers/dp/B0DZ31X3F4/ref=sr_1_2_sspa?crid=1YKKWZZ23V0CE&dib=eyJ2IjoiMSJ9.ZaIDyFR6Cj_-rdvK8scj8c05SaULJMSB748fQbkYnONjRZ8qbu3F4edK4ipnlKbPN5uHXJEEEnrqEkwX9RGSLu-eUJhdhlhlXhXD8hL4lKkFnO0O2RyTZtpG6VOkxb6X2iXRLJ5T67LB06q73MXUSekO-ctQmpfDnKw9ye8ySPs1sCrPsKzXST0qjy28jVjM68VrkVsV3Wu4aaY8cu5fWLAcnrni9jSftsRB_CRZeh8.C44DHlTapjvry83SxyCLcJ6h1abzfwBjS9YGcpumLdE&dib_tag=se&keywords=data+analyst+books&qid=1746684950&sprefix=data+analyst%2Caps%2C288&sr=8-2-spons&sp_csd=d2lkZ2V0TmFtZT1zcF9hdGY&psc=1'\n",
    "\n",
    "headers = {\n",
    "    \"User-Agent\": \"Mozilla/5.0 (Windows NT 10.0; Win64; x64; rv:122.0) Gecko/20100101 Firefox/122.0\",\n",
    "    \"Accept-Language\": \"en-US,en;q=0.5\"\n",
    "}\n",
    "\n",
    "page = requests.get(URL, headers=headers)\n",
    "soup1 = BeautifulSoup(page.content, \"html.parser\")\n",
    "soup2 = BeautifulSoup(soup1.prettify(), \"html.parser\")\n",
    "\n",
    "title_tag = soup2.find(id='productTitle')\n",
    "\n",
    "if title_tag:\n",
    "    title = title_tag.get_text().strip()\n",
    "    print(\"✅ Title:\", title)\n",
    "else:\n",
    "    print(\"❌ Title not found. Amazon may be blocking the request.\")\n",
    "    # Optional: print part of the HTML for debugging\n",
    "    print(soup1.prettify()[:1000])  # print first 1000 chars\n",
    "    \n",
    "price_tag = soup2.find('span', class_='a-price-whole')\n",
    "\n",
    "if price_tag:\n",
    "    price = price_tag.get_text().strip()\n",
    "    print(\"✅ Price:\", price)\n",
    "else:\n",
    "    print(\"❌ Price not found.\")\n",
    "    print(soup1.prettify()[:1000])\n",
    "\n"
   ]
  },
  {
   "cell_type": "code",
   "execution_count": 3,
   "id": "775e16b7-d31c-43d4-9f1b-70d8b75531dd",
   "metadata": {
    "scrolled": true
   },
   "outputs": [
    {
     "name": "stdout",
     "output_type": "stream",
     "text": [
      "Data Analyst Interview Questions Answers For Job Seekers: Sharpen Your Skills And Prepare for the Position of Data Analyst\n",
      ",999\n"
     ]
    }
   ],
   "source": [
    "price = price_tag.get_text().strip()[1:]  # Removes ₹ symbol or first character\n",
    "title = title_tag.get_text().strip()\n",
    "\n",
    "print(title)\n",
    "print(price)\n"
   ]
  },
  {
   "cell_type": "code",
   "execution_count": 4,
   "id": "3150ae31-62cd-4f02-979a-bd53a227b27d",
   "metadata": {
    "scrolled": true
   },
   "outputs": [
    {
     "name": "stdout",
     "output_type": "stream",
     "text": [
      "2025-05-09\n"
     ]
    }
   ],
   "source": [
    "# Create a Timestamp for your output to track when data was collected\n",
    "\n",
    "import datetime\n",
    "\n",
    "today = datetime.date.today()\n",
    "\n",
    "print(today)"
   ]
  },
  {
   "cell_type": "code",
   "execution_count": 5,
   "id": "651f247c-efad-4b1f-8488-53b3ab6f5bda",
   "metadata": {},
   "outputs": [
    {
     "name": "stdout",
     "output_type": "stream",
     "text": [
      "Scraping complete. Data written to CSV.\n"
     ]
    }
   ],
   "source": [
    "import csv\n",
    "header = ['Title', 'Price','Date']\n",
    "data = [title, price,today]\n",
    "\n",
    "with open('AmazonWebScraperDataset.csv', 'w', newline='', encoding='UTF8') as f:\n",
    "    writer = csv.writer(f)\n",
    "    writer.writerow(header)\n",
    "    writer.writerow(data)\n",
    "    writer.writerow(data)\n",
    "print(\"Scraping complete. Data written to CSV.\")\n"
   ]
  },
  {
   "cell_type": "code",
   "execution_count": 6,
   "id": "8199eaf2-c844-48dc-a80c-2090653f13e3",
   "metadata": {},
   "outputs": [
    {
     "name": "stdout",
     "output_type": "stream",
     "text": [
      "                                               Title Price        Date\n",
      "0  Data Analyst Interview Questions Answers For J...  ,999  2025-05-09\n",
      "1  Data Analyst Interview Questions Answers For J...  ,999  2025-05-09\n"
     ]
    }
   ],
   "source": [
    "\n",
    "import pandas as pd\n",
    "\n",
    "df = pd.read_csv(r'C:\\Users\\harin\\AmazonWebScraperDataset.csv')\n",
    "\n",
    "print(df)"
   ]
  },
  {
   "cell_type": "code",
   "execution_count": 7,
   "id": "a79fc325-b70f-4a17-a5fa-2426b2dd470e",
   "metadata": {},
   "outputs": [],
   "source": [
    "title = \"Data Analyst Interview Book\"\n",
    "price = \"999\"\n",
    "date = \"2025-05-08\"\n",
    "\n",
    "data = [title, price, date]\n",
    "\n",
    "with open('AmazonWebScraperDataset.csv', 'a+', newline='', encoding='UTF8') as f:\n",
    "    writer = csv.writer(f)\n",
    "    writer.writerow(data)\n"
   ]
  },
  {
   "cell_type": "code",
   "execution_count": 8,
   "id": "62630198-9eb9-4cac-be2e-33a0b305a794",
   "metadata": {},
   "outputs": [
    {
     "name": "stdout",
     "output_type": "stream",
     "text": [
      "Logged: Data Analyst Interview Questions Answers For Job Seekers: Sharpen Your Skills And Prepare for the Position of Data Analyst 1999.0 2025-05-09 11:22:52\n",
      "Logged: Data Analyst Interview Questions Answers For Job Seekers: Sharpen Your Skills And Prepare for the Position of Data Analyst 1999.0 2025-05-09 11:23:55\n",
      "Logged: Data Analyst Interview Questions Answers For Job Seekers: Sharpen Your Skills And Prepare for the Position of Data Analyst 1999.0 2025-05-09 11:24:58\n",
      "Logged: Data Analyst Interview Questions Answers For Job Seekers: Sharpen Your Skills And Prepare for the Position of Data Analyst 1999.0 2025-05-09 11:26:01\n",
      "Logged: Data Analyst Interview Questions Answers For Job Seekers: Sharpen Your Skills And Prepare for the Position of Data Analyst 1999.0 2025-05-09 11:27:05\n",
      "Logged: Data Analyst Interview Questions Answers For Job Seekers: Sharpen Your Skills And Prepare for the Position of Data Analyst 1999.0 2025-05-09 11:28:08\n",
      "Logged: Data Analyst Interview Questions Answers For Job Seekers: Sharpen Your Skills And Prepare for the Position of Data Analyst 1999.0 2025-05-09 11:29:10\n",
      "Logged: Data Analyst Interview Questions Answers For Job Seekers: Sharpen Your Skills And Prepare for the Position of Data Analyst 1999.0 2025-05-09 11:30:13\n",
      "Logged: Data Analyst Interview Questions Answers For Job Seekers: Sharpen Your Skills And Prepare for the Position of Data Analyst 1999.0 2025-05-09 11:31:16\n",
      "Logged: Data Analyst Interview Questions Answers For Job Seekers: Sharpen Your Skills And Prepare for the Position of Data Analyst 1999.0 2025-05-09 11:32:19\n",
      "Logged: Data Analyst Interview Questions Answers For Job Seekers: Sharpen Your Skills And Prepare for the Position of Data Analyst 1999.0 2025-05-09 11:33:22\n",
      "Logged: Data Analyst Interview Questions Answers For Job Seekers: Sharpen Your Skills And Prepare for the Position of Data Analyst 1999.0 2025-05-09 11:34:26\n",
      "Logged: Data Analyst Interview Questions Answers For Job Seekers: Sharpen Your Skills And Prepare for the Position of Data Analyst 1999.0 2025-05-09 11:35:28\n",
      "Logged: Data Analyst Interview Questions Answers For Job Seekers: Sharpen Your Skills And Prepare for the Position of Data Analyst 1999.0 2025-05-09 11:36:31\n",
      "Logged: Data Analyst Interview Questions Answers For Job Seekers: Sharpen Your Skills And Prepare for the Position of Data Analyst 1999.0 2025-05-09 11:37:34\n",
      "Logged: Data Analyst Interview Questions Answers For Job Seekers: Sharpen Your Skills And Prepare for the Position of Data Analyst 1999.0 2025-05-09 11:38:37\n",
      "Logged: Data Analyst Interview Questions Answers For Job Seekers: Sharpen Your Skills And Prepare for the Position of Data Analyst 1999.0 2025-05-09 11:39:39\n",
      "Logged: Data Analyst Interview Questions Answers For Job Seekers: Sharpen Your Skills And Prepare for the Position of Data Analyst 1999.0 2025-05-09 11:40:42\n",
      "Logged: Data Analyst Interview Questions Answers For Job Seekers: Sharpen Your Skills And Prepare for the Position of Data Analyst 1999.0 2025-05-09 11:41:45\n",
      "Logged: Data Analyst Interview Questions Answers For Job Seekers: Sharpen Your Skills And Prepare for the Position of Data Analyst 1999.0 2025-05-09 11:42:48\n",
      "Logged: Data Analyst Interview Questions Answers For Job Seekers: Sharpen Your Skills And Prepare for the Position of Data Analyst 1999.0 2025-05-09 11:43:50\n",
      "Logged: Data Analyst Interview Questions Answers For Job Seekers: Sharpen Your Skills And Prepare for the Position of Data Analyst 1999.0 2025-05-09 11:44:53\n",
      "Logged: Data Analyst Interview Questions Answers For Job Seekers: Sharpen Your Skills And Prepare for the Position of Data Analyst 1999.0 2025-05-09 11:45:56\n",
      "Logged: Data Analyst Interview Questions Answers For Job Seekers: Sharpen Your Skills And Prepare for the Position of Data Analyst 1999.0 2025-05-09 11:46:59\n",
      "Logged: Data Analyst Interview Questions Answers For Job Seekers: Sharpen Your Skills And Prepare for the Position of Data Analyst 1999.0 2025-05-09 11:48:01\n"
     ]
    },
    {
     "ename": "KeyboardInterrupt",
     "evalue": "",
     "output_type": "error",
     "traceback": [
      "\u001b[1;31m---------------------------------------------------------------------------\u001b[0m",
      "\u001b[1;31mKeyboardInterrupt\u001b[0m                         Traceback (most recent call last)",
      "Cell \u001b[1;32mIn[8], line 41\u001b[0m\n\u001b[0;32m     39\u001b[0m \u001b[38;5;28;01mwhile\u001b[39;00m \u001b[38;5;28;01mTrue\u001b[39;00m:\n\u001b[0;32m     40\u001b[0m     check_price()\n\u001b[1;32m---> 41\u001b[0m     time\u001b[38;5;241m.\u001b[39msleep(\u001b[38;5;241m60\u001b[39m)\n",
      "\u001b[1;31mKeyboardInterrupt\u001b[0m: "
     ]
    }
   ],
   "source": [
    "import requests\n",
    "from bs4 import BeautifulSoup\n",
    "import csv\n",
    "import time\n",
    "from datetime import datetime\n",
    "\n",
    "def check_price():\n",
    "    URL = 'https://www.amazon.in/Analyst-Interview-Questions-Answers-Seekers/dp/B0DZ31X3F4'\n",
    "    headers = {\n",
    "        \"User-Agent\": \"Mozilla/5.0 (Windows NT 10.0; Win64; x64; rv:122.0) Gecko/20100101 Firefox/122.0\"\n",
    "    }\n",
    "    \n",
    "    page = requests.get(URL, headers=headers)\n",
    "    soup = BeautifulSoup(page.content, \"html.parser\")\n",
    "\n",
    "    title_tag = soup.find(id='productTitle')\n",
    "    price_tag = soup.find('span', class_='a-price-whole')\n",
    "\n",
    "    if title_tag and price_tag:\n",
    "        title = title_tag.get_text(strip=True)\n",
    "        price = float(price_tag.get_text(strip=True).replace(',', ''))  # Convert to float\n",
    "        date = datetime.now().strftime('%Y-%m-%d %H:%M:%S')\n",
    "\n",
    "        # Log to CSV\n",
    "        with open('AmazonWebScraperDataset.csv', 'a+', newline='', encoding='UTF8') as f:\n",
    "            writer = csv.writer(f)\n",
    "            writer.writerow([title, price, date])\n",
    "\n",
    "        print(\"Logged:\", title, price, date)\n",
    "\n",
    "        # Compare price with 14\n",
    "        if price < 14:\n",
    "            send_mail()\n",
    "\n",
    "    else:\n",
    "        print(\"Product title or price not found.\")\n",
    "\n",
    "# For auto-running every 60 seconds\n",
    "while True:\n",
    "    check_price()\n",
    "    time.sleep(60)\n"
   ]
  },
  {
   "cell_type": "code",
   "execution_count": 11,
   "id": "f05fc2cc-5f27-4806-9f83-9c9cc321c678",
   "metadata": {},
   "outputs": [
    {
     "data": {
      "text/html": [
       "<div>\n",
       "<style scoped>\n",
       "    .dataframe tbody tr th:only-of-type {\n",
       "        vertical-align: middle;\n",
       "    }\n",
       "\n",
       "    .dataframe tbody tr th {\n",
       "        vertical-align: top;\n",
       "    }\n",
       "\n",
       "    .dataframe thead th {\n",
       "        text-align: right;\n",
       "    }\n",
       "</style>\n",
       "<table border=\"1\" class=\"dataframe\">\n",
       "  <thead>\n",
       "    <tr style=\"text-align: right;\">\n",
       "      <th></th>\n",
       "      <th>Title</th>\n",
       "      <th>Price</th>\n",
       "      <th>Date</th>\n",
       "    </tr>\n",
       "  </thead>\n",
       "  <tbody>\n",
       "    <tr>\n",
       "      <th>0</th>\n",
       "      <td>Data Analyst Interview Questions Answers For J...</td>\n",
       "      <td>,999</td>\n",
       "      <td>2025-05-09</td>\n",
       "    </tr>\n",
       "    <tr>\n",
       "      <th>1</th>\n",
       "      <td>Data Analyst Interview Questions Answers For J...</td>\n",
       "      <td>,999</td>\n",
       "      <td>2025-05-09</td>\n",
       "    </tr>\n",
       "    <tr>\n",
       "      <th>2</th>\n",
       "      <td>Data Analyst Interview Book</td>\n",
       "      <td>999</td>\n",
       "      <td>2025-05-08</td>\n",
       "    </tr>\n",
       "    <tr>\n",
       "      <th>3</th>\n",
       "      <td>Data Analyst Interview Questions Answers For J...</td>\n",
       "      <td>1999.0</td>\n",
       "      <td>2025-05-09 11:22:52</td>\n",
       "    </tr>\n",
       "    <tr>\n",
       "      <th>4</th>\n",
       "      <td>Data Analyst Interview Questions Answers For J...</td>\n",
       "      <td>1999.0</td>\n",
       "      <td>2025-05-09 11:23:55</td>\n",
       "    </tr>\n",
       "  </tbody>\n",
       "</table>\n",
       "</div>"
      ],
      "text/plain": [
       "                                               Title   Price  \\\n",
       "0  Data Analyst Interview Questions Answers For J...    ,999   \n",
       "1  Data Analyst Interview Questions Answers For J...    ,999   \n",
       "2                        Data Analyst Interview Book     999   \n",
       "3  Data Analyst Interview Questions Answers For J...  1999.0   \n",
       "4  Data Analyst Interview Questions Answers For J...  1999.0   \n",
       "\n",
       "                  Date  \n",
       "0           2025-05-09  \n",
       "1           2025-05-09  \n",
       "2           2025-05-08  \n",
       "3  2025-05-09 11:22:52  \n",
       "4  2025-05-09 11:23:55  "
      ]
     },
     "metadata": {},
     "output_type": "display_data"
    }
   ],
   "source": [
    "\n",
    "import pandas as pd\n",
    "\n",
    "df = pd.read_csv(r'C:\\Users\\harin\\AmazonWebScraperDataset.csv')\n",
    "display(df.head())  # Only show first 5 rows\n",
    "\n"
   ]
  },
  {
   "cell_type": "code",
   "execution_count": 10,
   "id": "6093a05a-20dd-421b-87b1-c3a71a2318ac",
   "metadata": {},
   "outputs": [
    {
     "name": "stdout",
     "output_type": "stream",
     "text": [
      "✅ Email sent successfully!\n"
     ]
    }
   ],
   "source": [
    "import smtplib\n",
    "\n",
    "def send_mail():\n",
    "    try:\n",
    "        server = smtplib.SMTP_SSL('smtp.gmail.com', 465)\n",
    "        server.ehlo()\n",
    "        # Replace the second argument with your 16-digit app password (no spaces)\n",
    "        server.login('teamworkwe3@gmail.com', 'hvch gglx mlhk jvmv')\n",
    "\n",
    "        subject = \"The book you want is now at a better price!\"\n",
    "        body = (\"Harini, the Data Analyst Interview Questions book is now priced lower. \"\n",
    "                \"Check it out before it changes!\\n\\n\"\n",
    "                \"Link: https://www.amazon.in/Analyst-Interview-Questions-Answers-Seekers/dp/B0DZ31X3F4/\")\n",
    "\n",
    "        msg = f\"Subject: {subject}\\n\\n{body}\"\n",
    "\n",
    "        server.sendmail('teamworkwe3@gmail.com', 'teamworkwe3@gmail.com', msg)\n",
    "        server.quit()\n",
    "        print(\"✅ Email sent successfully!\")\n",
    "\n",
    "    except Exception as e:\n",
    "        print(\"❌ Error sending email:\", e)\n",
    "\n",
    "# Call the function\n",
    "send_mail()\n"
   ]
  },
  {
   "cell_type": "code",
   "execution_count": null,
   "id": "4ac22851-885b-4c40-bd40-bccee57139a9",
   "metadata": {},
   "outputs": [],
   "source": [
    "\n"
   ]
  },
  {
   "cell_type": "code",
   "execution_count": null,
   "id": "3f4e40bc-185d-4fb1-9572-b457ee5c53de",
   "metadata": {},
   "outputs": [],
   "source": []
  },
  {
   "cell_type": "code",
   "execution_count": null,
   "id": "7a3b2a4c-8a91-4f33-8ee4-bd484164054b",
   "metadata": {},
   "outputs": [],
   "source": []
  },
  {
   "cell_type": "code",
   "execution_count": null,
   "id": "0fb34597-7bdf-4532-8dd8-b47e30645a32",
   "metadata": {},
   "outputs": [],
   "source": []
  },
  {
   "cell_type": "code",
   "execution_count": null,
   "id": "b28601c9-4cfb-4772-9535-dec2951522b7",
   "metadata": {},
   "outputs": [],
   "source": []
  },
  {
   "cell_type": "code",
   "execution_count": null,
   "id": "3098bb0e-33d2-4d8e-94a8-ad5d29faf404",
   "metadata": {},
   "outputs": [],
   "source": []
  }
 ],
 "metadata": {
  "kernelspec": {
   "display_name": "Python 3 (ipykernel)",
   "language": "python",
   "name": "python3"
  },
  "language_info": {
   "codemirror_mode": {
    "name": "ipython",
    "version": 3
   },
   "file_extension": ".py",
   "mimetype": "text/x-python",
   "name": "python",
   "nbconvert_exporter": "python",
   "pygments_lexer": "ipython3",
   "version": "3.12.7"
  }
 },
 "nbformat": 4,
 "nbformat_minor": 5
}
